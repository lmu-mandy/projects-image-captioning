{
  "nbformat": 4,
  "nbformat_minor": 0,
  "metadata": {
    "colab": {
      "name": "AlternativeModel.ipynb",
      "provenance": [],
      "collapsed_sections": []
    },
    "kernelspec": {
      "name": "python3",
      "display_name": "Python 3"
    },
    "language_info": {
      "name": "python"
    },
    "accelerator": "GPU"
  },
  "cells": [
    {
      "cell_type": "code",
      "execution_count": null,
      "metadata": {
        "colab": {
          "base_uri": "https://localhost:8080/"
        },
        "id": "cGdv8__xhTLD",
        "outputId": "2a7a3ff6-7bc4-4817-b877-5fd5a96167ff"
      },
      "outputs": [
        {
          "output_type": "stream",
          "name": "stdout",
          "text": [
            "Mounted at /content/drive\n"
          ]
        }
      ],
      "source": [
        "from google.colab import drive\n",
        "drive.mount('/content/drive')"
      ]
    },
    {
      "cell_type": "code",
      "source": [
        "!git clone https://github.com/ABruneel04/NLP_Final_Project.git"
      ],
      "metadata": {
        "colab": {
          "base_uri": "https://localhost:8080/"
        },
        "id": "HwfDNGXFpPYv",
        "outputId": "88c57790-c3a2-4196-aa7d-4b6d2d8cf459"
      },
      "execution_count": null,
      "outputs": [
        {
          "output_type": "stream",
          "name": "stdout",
          "text": [
            "Cloning into 'NLP_Final_Project'...\n",
            "remote: Enumerating objects: 8272, done.\u001b[K\n",
            "remote: Counting objects: 100% (124/124), done.\u001b[K\n",
            "remote: Compressing objects: 100% (76/76), done.\u001b[K\n",
            "remote: Total 8272 (delta 66), reused 92 (delta 46), pack-reused 8148\u001b[K\n",
            "Receiving objects: 100% (8272/8272), 1.03 GiB | 18.12 MiB/s, done.\n",
            "Resolving deltas: 100% (83/83), done.\n",
            "Checking out files: 100% (8116/8116), done.\n"
          ]
        }
      ]
    },
    {
      "cell_type": "code",
      "source": [
        "import os\n",
        "# !mv \"/content/NLP_Final_Project\" \"/content/drive/MyDrive\"\n",
        "work_dir = \"/content/drive/MyDrive/NLP_Final_Project\"\n",
        "os.chdir(work_dir)\n",
        "!ls"
      ],
      "metadata": {
        "colab": {
          "base_uri": "https://localhost:8080/"
        },
        "id": "wHyfSKtLRLHa",
        "outputId": "9510a69f-a258-4f51-dcbb-2a0185d45071"
      },
      "execution_count": null,
      "outputs": [
        {
          "output_type": "stream",
          "name": "stdout",
          "text": [
            " data\t\t model.py\t  README.md\t  train.py\n",
            " get_loader.py\t'Mouse clicker'   runs\t\t  utils.py\n",
            "'Google Colab'\t __pycache__\t  test_examples\n"
          ]
        }
      ]
    },
    {
      "cell_type": "code",
      "source": [
        "# Clone the repository from GitHub to Google Colab's temporary drive.\n",
        "import os\n",
        "work_dir = \"/content/drive/MyDrive/NLP_Final_Project\"\n",
        "if not os.path.exists(work_dir):\n",
        "    !git clone https://github.com/ABruneel04/NLP_Final_Project.git\n",
        "os.chdir(work_dir)\n",
        "!git pull"
      ],
      "metadata": {
        "id": "DgCiNem1hTmq",
        "colab": {
          "base_uri": "https://localhost:8080/"
        },
        "outputId": "296f4059-61c7-4fcb-a656-204147af3e2a"
      },
      "execution_count": null,
      "outputs": [
        {
          "output_type": "stream",
          "name": "stdout",
          "text": [
            "Already up to date.\n"
          ]
        }
      ]
    },
    {
      "cell_type": "code",
      "source": [
        "!python train.py"
      ],
      "metadata": {
        "colab": {
          "base_uri": "https://localhost:8080/"
        },
        "id": "oLAQr4YPhTpE",
        "outputId": "bfc8c843-a079-4959-cdc4-7a57b3345912"
      },
      "execution_count": null,
      "outputs": [
        {
          "output_type": "stream",
          "name": "stdout",
          "text": [
            "=> Loading checkpoint\n",
            "Epoch #0\n",
            "---------\n",
            "Example 1 CORRECT: Dog on a beach by the ocean\n",
            "Example 1 OUTPUT: misses melting moment athletic teeth darkened bunny animals cards lap earrings about fist mug tan branches booth cut boxers shop obstacle tussle bikers overalls overalls beard teacher runway teacher runway upraised pelican weeds ends blowing pass studio eastern way misses misses cows cans small jogging jogging skull skull athlete domino\n",
            "Example 2 CORRECT: Child holding red frisbee outdoors\n",
            "Example 2 OUTPUT: teeth bicycle laying tails gets waterfall waterfall smaller smaller candy candy helping not branches number tray wetsuit act <PAD> students riders romp drawing love foreground her monster deep chairs cold policeman take puts officer makeshift tail happy cowgirl baby including words hay nails crystal group performers expressions raising dead dead\n",
            "Example 3 CORRECT: Bus driving by parked cars\n",
            "Example 3 OUTPUT: playfully aims horses that handrail clad balls breaking breaks fat fat newspaper skateboarder pours parachutes gather opposing kneeling about terrain terrain steep tails gets snowball pond jackets tape stripes him compete wheelbarrow conversation crossing gazing stool crystal lane floor university university making drinking drum knife balloon firing polka firetruck surf\n",
            "Example 4 CORRECT: A small boat in the ocean\n",
            "Example 4 OUTPUT: misses melting moment waits droplets gun cameras silver silver ramps cooking injured chairs cold apple stares athletes gather opposing kneeling workers <PAD> students riders earrings doll poodles lap has own bumpy sling soft protest camp flower camp porch porch mask african pasta called steers paying dunes hides photographed words blue\n",
            "Example 5 CORRECT: A cowboy riding a horse in the desert\n",
            "Example 5 OUTPUT: love foreground empty breaking doll poodles streets leotard rival rival still appears first prepares soft earring mouthed dancers bouncing business jump scooter scooter scooter scooter scooter scooter scooter scooter scooter scooter relax toddlers sunglasses together little floor monkey pours suits defending ( than fat fat towards top nails turn catching\n",
            "=> Saving checkpoint\n"
          ]
        }
      ]
    },
    {
      "cell_type": "code",
      "source": [
        ""
      ],
      "metadata": {
        "id": "keq-RoAjfvar",
        "colab": {
          "base_uri": "https://localhost:8080/"
        },
        "outputId": "3aeafb96-c1fe-4f58-b155-66dc462898d3"
      },
      "execution_count": null,
      "outputs": [
        {
          "output_type": "stream",
          "name": "stdout",
          "text": [
            " data\t\t model.py\t     __pycache__   test_examples\n",
            " get_loader.py\t'Mouse clicker'      README.md\t   train.py\n",
            "'Google Colab'\t my_checkpoint.pth   runs\t   utils.py\n"
          ]
        }
      ]
    }
  ]
}